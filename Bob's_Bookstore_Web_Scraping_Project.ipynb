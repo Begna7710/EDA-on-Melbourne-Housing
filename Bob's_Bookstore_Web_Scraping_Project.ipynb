{
  "nbformat": 4,
  "nbformat_minor": 0,
  "metadata": {
    "colab": {
      "provenance": [],
      "authorship_tag": "ABX9TyM3t0N4LD8JiUsMVDUij2uy",
      "include_colab_link": true
    },
    "kernelspec": {
      "name": "python3",
      "display_name": "Python 3"
    },
    "language_info": {
      "name": "python"
    }
  },
  "cells": [
    {
      "cell_type": "markdown",
      "metadata": {
        "id": "view-in-github",
        "colab_type": "text"
      },
      "source": [
        "<a href=\"https://colab.research.google.com/github/Begna7710/EDA-on-Melbourne-Housing/blob/main/Bob's_Bookstore_Web_Scraping_Project.ipynb\" target=\"_parent\"><img src=\"https://colab.research.google.com/assets/colab-badge.svg\" alt=\"Open In Colab\"/></a>"
      ]
    },
    {
      "cell_type": "code",
      "execution_count": 97,
      "metadata": {
        "id": "v4HyiHO1hfd1"
      },
      "outputs": [],
      "source": [
        "import pandas as pd\n",
        "import requests\n",
        "from bs4 import BeautifulSoup"
      ]
    },
    {
      "cell_type": "code",
      "source": [
        "url = 'https://btech-data-analytics.github.io/bridgerland-technical-college/home.html'"
      ],
      "metadata": {
        "id": "-XPRWlKJpmN6"
      },
      "execution_count": 98,
      "outputs": []
    },
    {
      "cell_type": "code",
      "source": [
        "response = requests.get('https://btech-data-analytics.github.io/bridgerland-technical-college/bookstore.html').text"
      ],
      "metadata": {
        "id": "tFnVZiZXHXrI"
      },
      "execution_count": 109,
      "outputs": []
    },
    {
      "cell_type": "code",
      "source": [
        "#response = requests.get('https://btech-data-analytics.github.io/bridgerland-technical-college/home.html')"
      ],
      "metadata": {
        "id": "N8-wc0U-hqW1"
      },
      "execution_count": 107,
      "outputs": []
    },
    {
      "cell_type": "code",
      "source": [
        "#if response.status_code == 200:\n",
        " # print('Success')\n",
        "#else:\n",
        "  #print('Error')"
      ],
      "metadata": {
        "id": "lvSBIKBmpzZe"
      },
      "execution_count": 106,
      "outputs": []
    },
    {
      "cell_type": "code",
      "source": [
        "soup = BeautifulSoup(response, 'html.parser')"
      ],
      "metadata": {
        "id": "NiEcOlHCh2Dq"
      },
      "execution_count": 110,
      "outputs": []
    },
    {
      "cell_type": "code",
      "source": [
        "soup"
      ],
      "metadata": {
        "colab": {
          "base_uri": "https://localhost:8080/"
        },
        "id": "AFjeHnx6iF7f",
        "outputId": "2dd56c75-9c86-4b3a-fd32-3c11349aff4f"
      },
      "execution_count": 111,
      "outputs": [
        {
          "output_type": "execute_result",
          "data": {
            "text/plain": [
              "<html lang=\"en\">\n",
              "<head>\n",
              "<meta charset=\"utf-8\"/>\n",
              "<meta content=\"width=device-width, initial-scale=1.0\" name=\"viewport\"/>\n",
              "<link href=\"https://www.w3schools.com/w3css/4/w3.css\" rel=\"stylesheet\"/>\n",
              "<link href=\"style.css\" rel=\"stylesheet\"/>\n",
              "<title>Bob's Bookstore</title>\n",
              "</head>\n",
              "<body>\n",
              "<div class=\"w3-bar w3-blue-grey w3-large\" style=\"padding: 0rem 8rem 0rem 8rem\">\n",
              "<a href=\"/bridgerland-technical-college/home.html\"><img class=\"\" src=\"bobs_bookstore_white.png\" style=\"max-height: 2.8rem;\"/></a>\n",
              "<a class=\"w3-bar-item w3-button w3-right\" href=\"/bridgerland-technical-college/bookstore.html\">Store</a>\n",
              "<a class=\"w3-bar-item w3-button w3-right\" href=\"/bridgerland-technical-college/contact.html\">Contact</a>\n",
              "<a class=\"w3-bar-item w3-button w3-right\" href=\"/bridgerland-technical-college/about.html\">About</a>\n",
              "</div>\n",
              "<div class=\"w3-container\" style=\"max-width: 1000px;margin: auto;\">\n",
              "<h1>Books for Sale</h1>\n",
              "<table class=\"w3-table-all w3-hoverable w3-small\">\n",
              "<thead>\n",
              "<tr>\n",
              "<th>ISBN</th>\n",
              "<th>Title</th>\n",
              "<th>Author</th>\n",
              "<th>Language</th>\n",
              "<th>Pages</th>\n",
              "<th>Topic</th>\n",
              "<th>Price</th>\n",
              "<th></th>\n",
              "</tr>\n",
              "</thead>\n",
              "<tr class=\"book\">\n",
              "<td>978-1234567890</td>\n",
              "<td>Whiskers of Wisdom: Tales from Feline Philosophers</td>\n",
              "<td>Penelope Wainwright</td>\n",
              "<td>English</td>\n",
              "<td>256</td>\n",
              "<td>Cats</td>\n",
              "<td>$19.99</td>\n",
              "<td><button>Buy now</button></td>\n",
              "</tr>\n",
              "<tr class=\"book\">\n",
              "<td>978-2345678901</td>\n",
              "<td>Purrfectly Pawesome: A Cat's Life</td>\n",
              "<td>Jasper Sterling</td>\n",
              "<td>English</td>\n",
              "<td>192</td>\n",
              "<td>Cats</td>\n",
              "<td>$15.99</td>\n",
              "<td><button>Buy now</button></td>\n",
              "</tr>\n",
              "<tr class=\"book\">\n",
              "<td>978-3456789012</td>\n",
              "<td>Cat Tales: Adventures in Whiskerland</td>\n",
              "<td>Penelope Wainwright</td>\n",
              "<td>English</td>\n",
              "<td>320</td>\n",
              "<td>Cats</td>\n",
              "<td>$21.99</td>\n",
              "<td><button>Buy now</button></td>\n",
              "</tr>\n",
              "<tr class=\"book\">\n",
              "<td>978-4567890123</td>\n",
              "<td>The Enigmatic Paws: Mysteries of Meowville</td>\n",
              "<td>Maximilian Thorne</td>\n",
              "<td>English</td>\n",
              "<td>288</td>\n",
              "<td>Cats</td>\n",
              "<td>$17.99</td>\n",
              "<td><button>Buy now</button></td>\n",
              "</tr>\n",
              "<tr class=\"book\">\n",
              "<td>978-5678901234</td>\n",
              "<td>Cats in Wonderland</td>\n",
              "<td>Isadora Harrington</td>\n",
              "<td>English</td>\n",
              "<td>224</td>\n",
              "<td>Cats</td>\n",
              "<td>$16.99</td>\n",
              "<td><button>Buy now</button></td>\n",
              "</tr>\n",
              "<tr class=\"book\">\n",
              "<td>978-6789012345</td>\n",
              "<td>Whisker Wisdom: Life Lessons from Feline Sages</td>\n",
              "<td>Penelope Wainwright</td>\n",
              "<td>English</td>\n",
              "<td>288</td>\n",
              "<td>Cats</td>\n",
              "<td>$20.99</td>\n",
              "<td><button>Buy now</button></td>\n",
              "</tr>\n",
              "<tr class=\"book\">\n",
              "<td>978-7890123456</td>\n",
              "<td>Catnip Chronicles: A Purrfect Journey</td>\n",
              "<td>Jasper Sterling</td>\n",
              "<td>English</td>\n",
              "<td>192</td>\n",
              "<td>Cats</td>\n",
              "<td>$14.99</td>\n",
              "<td><button>Buy now</button></td>\n",
              "</tr>\n",
              "<tr class=\"book\">\n",
              "<td>978-8901234567</td>\n",
              "<td>Cat-astrophe: Tales of Misadventures</td>\n",
              "<td>Celeste Nightshade</td>\n",
              "<td>English</td>\n",
              "<td>240</td>\n",
              "<td>Cats</td>\n",
              "<td>$18.99</td>\n",
              "<td><button>Buy now</button></td>\n",
              "</tr>\n",
              "<tr class=\"book\">\n",
              "<td>978-9012345678</td>\n",
              "<td>The Cat's Whisker: A Feline Fantasy</td>\n",
              "<td>Penelope Wainwright</td>\n",
              "<td>English</td>\n",
              "<td>208</td>\n",
              "<td>Cats</td>\n",
              "<td>$16.99</td>\n",
              "<td><button>Buy now</button></td>\n",
              "</tr>\n",
              "<tr class=\"book\">\n",
              "<td>978-0123456789</td>\n",
              "<td>Fur and Friendship: Stories of Feline Companions</td>\n",
              "<td>Seraphina Montague</td>\n",
              "<td>English</td>\n",
              "<td>176</td>\n",
              "<td>Cats</td>\n",
              "<td>$12.99</td>\n",
              "<td><button>Buy now</button></td>\n",
              "</tr>\n",
              "<tr class=\"book\">\n",
              "<td>978-1234567890</td>\n",
              "<td>Tails of Loyalty: Canine Chronicles</td>\n",
              "<td>Benjamin Barkley</td>\n",
              "<td>English</td>\n",
              "<td>256</td>\n",
              "<td>Dogs</td>\n",
              "<td>$29.99</td>\n",
              "<td><button>Buy now</button></td>\n",
              "</tr>\n",
              "<tr class=\"book\">\n",
              "<td>978-2345678901</td>\n",
              "<td>Pawsitive Adventures: A Dog's Journey</td>\n",
              "<td>Sophie Shepherd</td>\n",
              "<td>English</td>\n",
              "<td>192</td>\n",
              "<td>Dogs</td>\n",
              "<td>$25.99</td>\n",
              "<td><button>Buy now</button></td>\n",
              "</tr>\n",
              "<tr class=\"book\">\n",
              "<td>978-3456789012</td>\n",
              "<td>Barking Wisdom: Lessons from Wise Canines</td>\n",
              "<td>Oliver Obedience</td>\n",
              "<td>English</td>\n",
              "<td>320</td>\n",
              "<td>Dogs</td>\n",
              "<td>$21.99</td>\n",
              "<td><button>Buy now</button></td>\n",
              "</tr>\n",
              "<tr class=\"book\">\n",
              "<td>978-4567890123</td>\n",
              "<td>Dogged Determination: Stories of Resilient Pooches</td>\n",
              "<td>Ruby Ruffington</td>\n",
              "<td>English</td>\n",
              "<td>288</td>\n",
              "<td>Dogs</td>\n",
              "<td>$27.99</td>\n",
              "<td><button>Buy now</button></td>\n",
              "</tr>\n",
              "<tr class=\"book\">\n",
              "<td>978-5678901234</td>\n",
              "<td>The Bark Brigade: Canine Heroes Among Us</td>\n",
              "<td>Benjamin Barkley</td>\n",
              "<td>English</td>\n",
              "<td>224</td>\n",
              "<td>Dogs</td>\n",
              "<td>$26.99</td>\n",
              "<td><button>Buy now</button></td>\n",
              "</tr>\n",
              "</table>\n",
              "</div>\n",
              "<footer class=\"page-footer\">\n",
              "<div class=\"footer-content\">\n",
              "<p>© 2023 Bob's Bookstore</p>\n",
              "<ul class=\"social-icons\">\n",
              "<li><a href=\"#\"><img alt=\"Facebook\" src=\"facebook.png\"/></a></li>\n",
              "<li><a href=\"#\"><img alt=\"Twitter\" src=\"twitter.png\"/></a></li>\n",
              "<li><a href=\"#\"><img alt=\"Instagram\" src=\"instagram.png\"/></a></li>\n",
              "</ul>\n",
              "</div>\n",
              "</footer>\n",
              "</body>\n",
              "</html>"
            ]
          },
          "metadata": {},
          "execution_count": 111
        }
      ]
    },
    {
      "cell_type": "code",
      "source": [
        "soup.find('table').find_all('tr', class_='book')"
      ],
      "metadata": {
        "colab": {
          "base_uri": "https://localhost:8080/"
        },
        "id": "cyIMrRTEGDqW",
        "outputId": "1fa78269-614e-4133-a222-54f574112b28"
      },
      "execution_count": 112,
      "outputs": [
        {
          "output_type": "execute_result",
          "data": {
            "text/plain": [
              "[<tr class=\"book\">\n",
              " <td>978-1234567890</td>\n",
              " <td>Whiskers of Wisdom: Tales from Feline Philosophers</td>\n",
              " <td>Penelope Wainwright</td>\n",
              " <td>English</td>\n",
              " <td>256</td>\n",
              " <td>Cats</td>\n",
              " <td>$19.99</td>\n",
              " <td><button>Buy now</button></td>\n",
              " </tr>,\n",
              " <tr class=\"book\">\n",
              " <td>978-2345678901</td>\n",
              " <td>Purrfectly Pawesome: A Cat's Life</td>\n",
              " <td>Jasper Sterling</td>\n",
              " <td>English</td>\n",
              " <td>192</td>\n",
              " <td>Cats</td>\n",
              " <td>$15.99</td>\n",
              " <td><button>Buy now</button></td>\n",
              " </tr>,\n",
              " <tr class=\"book\">\n",
              " <td>978-3456789012</td>\n",
              " <td>Cat Tales: Adventures in Whiskerland</td>\n",
              " <td>Penelope Wainwright</td>\n",
              " <td>English</td>\n",
              " <td>320</td>\n",
              " <td>Cats</td>\n",
              " <td>$21.99</td>\n",
              " <td><button>Buy now</button></td>\n",
              " </tr>,\n",
              " <tr class=\"book\">\n",
              " <td>978-4567890123</td>\n",
              " <td>The Enigmatic Paws: Mysteries of Meowville</td>\n",
              " <td>Maximilian Thorne</td>\n",
              " <td>English</td>\n",
              " <td>288</td>\n",
              " <td>Cats</td>\n",
              " <td>$17.99</td>\n",
              " <td><button>Buy now</button></td>\n",
              " </tr>,\n",
              " <tr class=\"book\">\n",
              " <td>978-5678901234</td>\n",
              " <td>Cats in Wonderland</td>\n",
              " <td>Isadora Harrington</td>\n",
              " <td>English</td>\n",
              " <td>224</td>\n",
              " <td>Cats</td>\n",
              " <td>$16.99</td>\n",
              " <td><button>Buy now</button></td>\n",
              " </tr>,\n",
              " <tr class=\"book\">\n",
              " <td>978-6789012345</td>\n",
              " <td>Whisker Wisdom: Life Lessons from Feline Sages</td>\n",
              " <td>Penelope Wainwright</td>\n",
              " <td>English</td>\n",
              " <td>288</td>\n",
              " <td>Cats</td>\n",
              " <td>$20.99</td>\n",
              " <td><button>Buy now</button></td>\n",
              " </tr>,\n",
              " <tr class=\"book\">\n",
              " <td>978-7890123456</td>\n",
              " <td>Catnip Chronicles: A Purrfect Journey</td>\n",
              " <td>Jasper Sterling</td>\n",
              " <td>English</td>\n",
              " <td>192</td>\n",
              " <td>Cats</td>\n",
              " <td>$14.99</td>\n",
              " <td><button>Buy now</button></td>\n",
              " </tr>,\n",
              " <tr class=\"book\">\n",
              " <td>978-8901234567</td>\n",
              " <td>Cat-astrophe: Tales of Misadventures</td>\n",
              " <td>Celeste Nightshade</td>\n",
              " <td>English</td>\n",
              " <td>240</td>\n",
              " <td>Cats</td>\n",
              " <td>$18.99</td>\n",
              " <td><button>Buy now</button></td>\n",
              " </tr>,\n",
              " <tr class=\"book\">\n",
              " <td>978-9012345678</td>\n",
              " <td>The Cat's Whisker: A Feline Fantasy</td>\n",
              " <td>Penelope Wainwright</td>\n",
              " <td>English</td>\n",
              " <td>208</td>\n",
              " <td>Cats</td>\n",
              " <td>$16.99</td>\n",
              " <td><button>Buy now</button></td>\n",
              " </tr>,\n",
              " <tr class=\"book\">\n",
              " <td>978-0123456789</td>\n",
              " <td>Fur and Friendship: Stories of Feline Companions</td>\n",
              " <td>Seraphina Montague</td>\n",
              " <td>English</td>\n",
              " <td>176</td>\n",
              " <td>Cats</td>\n",
              " <td>$12.99</td>\n",
              " <td><button>Buy now</button></td>\n",
              " </tr>,\n",
              " <tr class=\"book\">\n",
              " <td>978-1234567890</td>\n",
              " <td>Tails of Loyalty: Canine Chronicles</td>\n",
              " <td>Benjamin Barkley</td>\n",
              " <td>English</td>\n",
              " <td>256</td>\n",
              " <td>Dogs</td>\n",
              " <td>$29.99</td>\n",
              " <td><button>Buy now</button></td>\n",
              " </tr>,\n",
              " <tr class=\"book\">\n",
              " <td>978-2345678901</td>\n",
              " <td>Pawsitive Adventures: A Dog's Journey</td>\n",
              " <td>Sophie Shepherd</td>\n",
              " <td>English</td>\n",
              " <td>192</td>\n",
              " <td>Dogs</td>\n",
              " <td>$25.99</td>\n",
              " <td><button>Buy now</button></td>\n",
              " </tr>,\n",
              " <tr class=\"book\">\n",
              " <td>978-3456789012</td>\n",
              " <td>Barking Wisdom: Lessons from Wise Canines</td>\n",
              " <td>Oliver Obedience</td>\n",
              " <td>English</td>\n",
              " <td>320</td>\n",
              " <td>Dogs</td>\n",
              " <td>$21.99</td>\n",
              " <td><button>Buy now</button></td>\n",
              " </tr>,\n",
              " <tr class=\"book\">\n",
              " <td>978-4567890123</td>\n",
              " <td>Dogged Determination: Stories of Resilient Pooches</td>\n",
              " <td>Ruby Ruffington</td>\n",
              " <td>English</td>\n",
              " <td>288</td>\n",
              " <td>Dogs</td>\n",
              " <td>$27.99</td>\n",
              " <td><button>Buy now</button></td>\n",
              " </tr>,\n",
              " <tr class=\"book\">\n",
              " <td>978-5678901234</td>\n",
              " <td>The Bark Brigade: Canine Heroes Among Us</td>\n",
              " <td>Benjamin Barkley</td>\n",
              " <td>English</td>\n",
              " <td>224</td>\n",
              " <td>Dogs</td>\n",
              " <td>$26.99</td>\n",
              " <td><button>Buy now</button></td>\n",
              " </tr>]"
            ]
          },
          "metadata": {},
          "execution_count": 112
        }
      ]
    },
    {
      "cell_type": "code",
      "source": [
        "titles = []\n",
        "authors = []\n",
        "prices = []\n",
        "pages = []\n",
        "books = []"
      ],
      "metadata": {
        "id": "FO9UKvQKiN6u"
      },
      "execution_count": 113,
      "outputs": []
    },
    {
      "cell_type": "code",
      "source": [
        "book_items = soup.find_all('div', class_='w3-card-4')\n"
      ],
      "metadata": {
        "id": "9QGKm1tCiRse"
      },
      "execution_count": 114,
      "outputs": []
    },
    {
      "cell_type": "code",
      "source": [
        "for book in book_items:\n",
        "  title = book.find('h3').get_text(strip=True)\n",
        "  author = book.find('p').get_text(strip=True)\n",
        "  titles.append(title)\n",
        "  authors.append(author)"
      ],
      "metadata": {
        "id": "LurDoVU0qMeB"
      },
      "execution_count": 115,
      "outputs": []
    },
    {
      "cell_type": "code",
      "source": [
        "df = pd.DataFrame({'Title': titles, 'Author': authors})"
      ],
      "metadata": {
        "id": "I_UBnHiBqzoc"
      },
      "execution_count": 119,
      "outputs": []
    },
    {
      "cell_type": "code",
      "source": [
        "#most_books_author = df['Author'].value_counts().idxmax()"
      ],
      "metadata": {
        "id": "I6Ji0YXfq3Oa"
      },
      "execution_count": 121,
      "outputs": []
    },
    {
      "cell_type": "code",
      "source": [
        "print(most_books_author)"
      ],
      "metadata": {
        "colab": {
          "base_uri": "https://localhost:8080/"
        },
        "id": "ljlD79PAq90x",
        "outputId": "c162877f-a89e-478d-bf9d-8f35acab1b3c"
      },
      "execution_count": 122,
      "outputs": [
        {
          "output_type": "stream",
          "name": "stdout",
          "text": [
            "Seraphina Montague\n"
          ]
        }
      ]
    },
    {
      "cell_type": "code",
      "source": [
        "import re\n",
        "from collections import Counter"
      ],
      "metadata": {
        "id": "eBHwiZdFrLo_"
      },
      "execution_count": 123,
      "outputs": []
    },
    {
      "cell_type": "code",
      "source": [
        "from collections import defaultdict"
      ],
      "metadata": {
        "id": "mszhKTGBBqIH"
      },
      "execution_count": 124,
      "outputs": []
    },
    {
      "cell_type": "code",
      "source": [
        "def extract_topic(title):\n",
        "    keywords = [\"Feline\", \"Cat\", \"Kitty\", \"Whisker\", \"Paws\", \"Tails\", \"Adventure\", \"Philosophers\", \"Mystery\", \"Love\", \"Fantasy\", \"Dreams\"]\n",
        "    for keyword in keywords:\n",
        "        if keyword.lower() in title.lower():\n",
        "            return keyword\n",
        "    return \"Other\""
      ],
      "metadata": {
        "id": "dfpPtvTVsfNB"
      },
      "execution_count": 125,
      "outputs": []
    },
    {
      "cell_type": "code",
      "source": [
        "print(most_popular_topic)\n",
        "print(most_popular_topic_count)"
      ],
      "metadata": {
        "colab": {
          "base_uri": "https://localhost:8080/"
        },
        "id": "9aRA6Jk1szbc",
        "outputId": "17e918f1-abd8-42d8-8511-a81941357556"
      },
      "execution_count": 127,
      "outputs": [
        {
          "output_type": "stream",
          "name": "stdout",
          "text": [
            "Cat\n",
            "5\n"
          ]
        }
      ]
    },
    {
      "cell_type": "code",
      "source": [
        "book_cards = soup.find_all(\"div\", class_=\"w3-card-4\")"
      ],
      "metadata": {
        "id": "5j2A-XLsu6cd"
      },
      "execution_count": 128,
      "outputs": []
    },
    {
      "cell_type": "code",
      "source": [
        "for card in book_cards:\n",
        "    title = card.find(\"h3\").text.strip()\n",
        "    author = card.find(\"p\").text.strip()"
      ],
      "metadata": {
        "id": "hJ68gYaXvDez"
      },
      "execution_count": 129,
      "outputs": []
    },
    {
      "cell_type": "code",
      "source": [
        "books = []\n",
        "for row in soup.select(\"tr.book\"):\n",
        "    columns = row.find_all(\"td\")\n",
        "    book = {\n",
        "        \"isbn\": columns[0].text.strip(),\n",
        "        \"title\": columns[1].text.strip(),\n",
        "        \"author\": columns[2].text.strip(),\n",
        "        \"language\": columns[3].text.strip(),\n",
        "        \"pages\": int(columns[4].text.strip()),\n",
        "        \"topic\": columns[5].text.strip(),\n",
        "        \"price\": float(columns[6].text.strip().replace(\"$\", \"\")),\n",
        "    }\n",
        "    books.append(book)"
      ],
      "metadata": {
        "id": "YdX4N9q9vN3p"
      },
      "execution_count": 130,
      "outputs": []
    },
    {
      "cell_type": "code",
      "source": [
        "from collections import defaultdict"
      ],
      "metadata": {
        "id": "T2Y06kwOyBZa"
      },
      "execution_count": 131,
      "outputs": []
    },
    {
      "cell_type": "code",
      "source": [
        "topic_prices = defaultdict(list)\n",
        "for book in books:\n",
        "    topic_prices[book[\"topic\"]].append(book[\"price\"])\n"
      ],
      "metadata": {
        "id": "v-GwSDgnyFlx"
      },
      "execution_count": 132,
      "outputs": []
    },
    {
      "cell_type": "code",
      "source": [
        "average_prices = {topic: sum(prices) / len(prices) for topic, prices in topic_prices.items()}"
      ],
      "metadata": {
        "id": "TB8ZVY9FyLjI"
      },
      "execution_count": 133,
      "outputs": []
    },
    {
      "cell_type": "code",
      "source": [
        "topic_prices = defaultdict(list)\n",
        "for book in books:\n",
        "    topic_prices[book[\"topic\"]].append(book[\"price\"])\n"
      ],
      "metadata": {
        "id": "52DQOF7AyfFc"
      },
      "execution_count": 134,
      "outputs": []
    },
    {
      "cell_type": "code",
      "source": [
        "url ='https://btech-data-analytics.github.io/bridgerland-technical-college/bookstore.html'"
      ],
      "metadata": {
        "id": "fi5HAbFuD4aQ"
      },
      "execution_count": 135,
      "outputs": []
    },
    {
      "cell_type": "code",
      "source": [
        "table_rows = soup.select(\"table.w3-table-all tr\")\n"
      ],
      "metadata": {
        "id": "2gGN1X2lz0sO"
      },
      "execution_count": 136,
      "outputs": []
    },
    {
      "cell_type": "code",
      "source": [
        "for row in table_rows[1:]:\n",
        "    columns = row.find_all(\"td\")\n",
        "    if len(columns) < 7:\n",
        "        continue"
      ],
      "metadata": {
        "id": "ISoKSGpm0z6i"
      },
      "execution_count": 137,
      "outputs": []
    },
    {
      "cell_type": "code",
      "source": [
        "topic_prices = defaultdict(list)\n",
        "for book in books:\n",
        "    topic_prices[book[\"topic\"]].append(book[\"price\"])"
      ],
      "metadata": {
        "id": "nMKb2PGK0-eg"
      },
      "execution_count": 138,
      "outputs": []
    },
    {
      "cell_type": "code",
      "source": [
        "avg_topic_prices = {topic: sum(prices) / len(prices) for topic, prices in topic_prices.items()}\n"
      ],
      "metadata": {
        "id": "TlP0MsrE1Bcn"
      },
      "execution_count": 139,
      "outputs": []
    },
    {
      "cell_type": "code",
      "source": [
        "table_rows = soup.select(\"table.w3-table-all tr\")\n"
      ],
      "metadata": {
        "id": "JWTBk5pV1Etn"
      },
      "execution_count": 140,
      "outputs": []
    },
    {
      "cell_type": "code",
      "source": [
        "for row in table_rows[1:]:\n",
        "    columns = row.find_all(\"td\")\n",
        "    if len(columns) < 7:\n",
        "        continue\n",
        "    try:\n",
        "        topic = columns[5].text.strip()\n",
        "        price = float(columns[6].text.strip().replace(\"$\", \"\"))\n",
        "        books.append({\"topic\": topic, \"price\": price})\n",
        "    except Exception as e:\n",
        "        print(f\"Error parsing row: {row} - {e}\")"
      ],
      "metadata": {
        "id": "0L4lkDgq1JwW"
      },
      "execution_count": 141,
      "outputs": []
    },
    {
      "cell_type": "code",
      "source": [
        "topic_prices = defaultdict(list)\n",
        "for book in books:\n",
        "    topic_prices[book[\"topic\"]].append(book[\"price\"])"
      ],
      "metadata": {
        "id": "9gsyBF5P8El8"
      },
      "execution_count": 142,
      "outputs": []
    },
    {
      "cell_type": "code",
      "source": [
        "avg_topic_prices = {topic: sum(prices) / len(prices) for topic, prices in topic_prices.items()}"
      ],
      "metadata": {
        "id": "lyVPO7qJ8Kzj"
      },
      "execution_count": 143,
      "outputs": []
    },
    {
      "cell_type": "code",
      "source": [
        "data = []\n",
        "rows = soup.select(\"table.w3-table-all tr\")[1:]\n",
        "\n",
        "for row in rows:\n",
        "    cells = row.find_all(\"td\")\n",
        "    if len(cells) >= 6:\n",
        "        try:\n",
        "            topic = cells[5].text.strip()\n",
        "            price = float(cells[6].text.strip().replace(\"$\", \"\"))\n",
        "            data.append({\"Topic\": topic, \"Price\": price})\n",
        "        except ValueError:\n",
        "\n",
        "            continue"
      ],
      "metadata": {
        "id": "iZOt8jpFEFjA"
      },
      "execution_count": 152,
      "outputs": []
    },
    {
      "cell_type": "code",
      "source": [
        "df = pd.DataFrame(data)"
      ],
      "metadata": {
        "id": "l0fn-ac5JkKd"
      },
      "execution_count": 146,
      "outputs": []
    },
    {
      "cell_type": "code",
      "source": [
        "avg_prices = df.groupby(\"Topic\")[\"Price\"].mean()"
      ],
      "metadata": {
        "id": "4vG547aNJon0"
      },
      "execution_count": 147,
      "outputs": []
    },
    {
      "cell_type": "code",
      "source": [
        "most_expensive_topic = avg_prices.idxmax()\n",
        "most_expensive_price = avg_prices.max()"
      ],
      "metadata": {
        "id": "dgrJ6Ym4Jry8"
      },
      "execution_count": 148,
      "outputs": []
    },
    {
      "cell_type": "code",
      "source": [
        "print(most_expensive_topic)"
      ],
      "metadata": {
        "colab": {
          "base_uri": "https://localhost:8080/"
        },
        "id": "-PKe28tbJtY0",
        "outputId": "072464a2-60a9-4ada-9b06-4bd21c617fcd"
      },
      "execution_count": 150,
      "outputs": [
        {
          "output_type": "stream",
          "name": "stdout",
          "text": [
            "Dogs\n"
          ]
        }
      ]
    },
    {
      "cell_type": "code",
      "source": [
        "print(most_expensive_price)"
      ],
      "metadata": {
        "colab": {
          "base_uri": "https://localhost:8080/"
        },
        "id": "Q9bIMaH2J7Vj",
        "outputId": "935e15c2-a89b-48ed-8e3d-88ab461ec4ce"
      },
      "execution_count": 151,
      "outputs": [
        {
          "output_type": "stream",
          "name": "stdout",
          "text": [
            "26.589999999999996\n"
          ]
        }
      ]
    },
    {
      "cell_type": "code",
      "source": [
        "data = []\n",
        "rows = soup.select(\"table.w3-table-all tr\")[1:]  # Skip the header row\n",
        "\n",
        "for row in rows:\n",
        "    cells = row.find_all(\"td\")\n",
        "    if len(cells) >= 5:  # Ensure the row has enough columns\n",
        "        try:\n",
        "            topic = cells[5].text.strip()  # Topic column\n",
        "            pages = int(cells[4].text.strip())  # Pages column\n",
        "            data.append({\"Topic\": topic, \"Pages\": pages})\n",
        "        except ValueError:\n",
        "            # Skip rows with invalid data\n",
        "            continue"
      ],
      "metadata": {
        "id": "4ZD9KSq1KHRr"
      },
      "execution_count": 153,
      "outputs": []
    },
    {
      "cell_type": "code",
      "source": [
        "df = pd.DataFrame(data)"
      ],
      "metadata": {
        "id": "K6bCS0QiKaZl"
      },
      "execution_count": 154,
      "outputs": []
    },
    {
      "cell_type": "code",
      "source": [
        "avg_pages = df.groupby(\"Topic\")[\"Pages\"].mean()"
      ],
      "metadata": {
        "id": "IAHKlU3AKbcl"
      },
      "execution_count": 155,
      "outputs": []
    },
    {
      "cell_type": "code",
      "source": [
        "topic_with_most_pages = avg_pages.idxmax()\n",
        "most_pages = avg_pages.max()"
      ],
      "metadata": {
        "id": "EBboG6LwKgkt"
      },
      "execution_count": 156,
      "outputs": []
    },
    {
      "cell_type": "code",
      "source": [
        "print(topic_with_most_pages)\n",
        "print(most_pages)"
      ],
      "metadata": {
        "colab": {
          "base_uri": "https://localhost:8080/"
        },
        "id": "1bpckIeNKh6W",
        "outputId": "1898a3f0-4ddd-4006-8cd7-be8baa18e0b3"
      },
      "execution_count": 157,
      "outputs": [
        {
          "output_type": "stream",
          "name": "stdout",
          "text": [
            "Dogs\n",
            "256.0\n"
          ]
        }
      ]
    }
  ]
}